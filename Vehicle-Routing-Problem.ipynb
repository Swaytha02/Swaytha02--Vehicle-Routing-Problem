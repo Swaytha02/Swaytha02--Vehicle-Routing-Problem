{
  "nbformat": 4,
  "nbformat_minor": 0,
  "metadata": {
    "colab": {
      "private_outputs": true,
      "provenance": []
    },
    "kernelspec": {
      "name": "python3",
      "display_name": "Python 3"
    },
    "language_info": {
      "name": "python"
    }
  },
  "cells": [
    {
      "cell_type": "code",
      "source": [
        "#TASK 1 - Install matplotlib and deap\n",
        "#       - Import all necessary libraries"
      ],
      "metadata": {
        "id": "mu1stxLGReQ-"
      },
      "execution_count": null,
      "outputs": []
    },
    {
      "cell_type": "code",
      "source": [
        "# TODO: Task 2 - Define the number of locations and vehicles\n",
        "\n",
        "num_locations = # Define the number of locations (eg 10)\n",
        "\n",
        "locations = # Create a list of tuples representing location coordinates -\n",
        "            # try to use a random number generator\n",
        "            # (x, y) could be between 0 and 100\n",
        "\n",
        "depot = # Define the coordinates for the depot\n",
        "\n",
        "num_vehicles = # Define the number of vehicles - (eg 3)"
      ],
      "metadata": {
        "id": "_aj-g-q-RE5V"
      },
      "execution_count": null,
      "outputs": []
    },
    {
      "cell_type": "code",
      "source": [
        "# TASK 3 - Genetic Algorithm Setup\n",
        "       # - Figure out how to represent an individual OR encode an individual\n",
        "\n",
        "creator.create(\"FitnessMin\", )\n",
        "creator.create(\"Individual\", )\n",
        "\n",
        "#TASK 4 - Starting with the toolbox and tools\n",
        "\n",
        "toolbox = base.Toolbox()\n",
        "toolbox.register(\"indices\", random.sample, range(num_locations), num_locations)\n",
        "toolbox.register(\"individual\", #finish defining how to build an individual)\n",
        "toolbox.register(\"population\", #finish defining how to build an population)"
      ],
      "metadata": {
        "id": "h-uSy-5cUTKE"
      },
      "execution_count": null,
      "outputs": []
    },
    {
      "cell_type": "code",
      "source": [
        "# TASK 5 and 6\n",
        "\n",
        "def evalVRP(individual):\n",
        "    # TODO: Task 5 - Write the fitness evaluation function\n",
        "    #              - Return (total distance, standard deviation)\n",
        "\n",
        "\n",
        "\n",
        "#TASK 6 - Register the evaluate function in the toolbox"
      ],
      "metadata": {
        "id": "FeYQ2y_saOGH"
      },
      "execution_count": null,
      "outputs": []
    },
    {
      "cell_type": "code",
      "execution_count": null,
      "metadata": {
        "id": "ruAQ60ooRAzI"
      },
      "outputs": [],
      "source": [
        "!pip install deap"
      ]
    },
    {
      "cell_type": "code",
      "source": [
        "import pandas as pd\n",
        "import numpy as np\n",
        "import matplotlib.pyplot as plt\n",
        "from deap import base, creator, tools, algorithms\n",
        "import random"
      ],
      "metadata": {
        "id": "IRz9P0akRfVp"
      },
      "execution_count": null,
      "outputs": []
    },
    {
      "cell_type": "code",
      "source": [
        "num_locations = 10\n",
        "locations = [(np.random.uniform(0, 100), np.random.uniform(0, 100)) for _ in range(num_locations)]\n",
        "depot = (0, 0)\n",
        "num_vehicles = 3"
      ],
      "metadata": {
        "id": "lL-xwqVeRs5p"
      },
      "execution_count": null,
      "outputs": []
    },
    {
      "cell_type": "code",
      "source": [
        "creator.create(\"FitnessMin\", base.Fitness, weights = (-1.0, -1.0))\n",
        "creator.create(\"Individual\", list, fitness=creator.FitnessMin)"
      ],
      "metadata": {
        "id": "DMEjnFOzSp4D"
      },
      "execution_count": null,
      "outputs": []
    },
    {
      "cell_type": "code",
      "source": [
        "toolbox = base.Toolbox()\n",
        "toolbox.register(\"indices\", random.sample, range(num_locations), num_locations)\n",
        "toolbox.register(\"individual\", tools.initIterate, creator.Individual, toolbox.indices)\n",
        "toolbox.register(\"population\", tools.initRepeat, list, toolbox.individual)"
      ],
      "metadata": {
        "id": "-CMRVk5vSp0k"
      },
      "execution_count": null,
      "outputs": []
    },
    {
      "cell_type": "code",
      "source": [
        "'''def evalVRP(individual):\n",
        "      total_distance = np.linalg.norm(np.array(depot) - np.array(locations[individual[0]]))\n",
        "\n",
        "      for i in range(len(individual) - 1):\n",
        "          total_distance += np.linalg.norm(np.array(locations[individual[i]]) - np.array(locations[individual[i + 1]]))\n",
        "\n",
        "      total_distance += np.linalg.norm(np.array(locations[individual[-1]]) - np.array(depot))\n",
        "\n",
        "      return (total_distance,)\n",
        "\n",
        "toolbox.register(\"evaluate\", evalVRP)\n",
        "toolbox.register(\"select\", tools.selTournament, tournsize=3)\n",
        "toolbox.register(\"mate\", tools.cxPartialyMatched)\n",
        "toolbox.register(\"mutate\", tools.mutShuffleIndexes, indpb=0.05)'''"
      ],
      "metadata": {
        "id": "JvALUennSpyV"
      },
      "execution_count": null,
      "outputs": []
    },
    {
      "cell_type": "code",
      "source": [
        "def evalVRP(individual):\n",
        "    total_distance = 0\n",
        "    distances = []  # Track distance traveled by each vehicle for balance calculation\n",
        "    # Split the list of locations among vehicles, ensuring each starts and ends at the depot\n",
        "    for i in range(num_vehicles):\n",
        "\n",
        "        vehicle_route = [depot] + [locations[individual[j]] for j in range(i, len(individual), num_vehicles)] + [depot]\n",
        "\n",
        "        # Calculate total distance traveled by this vehicle\n",
        "        vehicle_distance = 0\n",
        "        for k in range(len(vehicle_route) - 1):\n",
        "            vehicle_distance += np.linalg.norm(np.array(vehicle_route[k]) - np.array(vehicle_route[k + 1]))\n",
        "\n",
        "        total_distance += vehicle_distance\n",
        "        distances.append(vehicle_distance)\n",
        "\n",
        "    balance_penalty = np.std(distances)  # Use standard deviation of distances as a penalty for imbalance among vehicles\n",
        "    return total_distance, balance_penalty\n",
        "\n",
        "toolbox.register(\"evaluate\", evalVRP)"
      ],
      "metadata": {
        "id": "AIAc9ke5Spto"
      },
      "execution_count": null,
      "outputs": []
    },
    {
      "cell_type": "markdown",
      "source": [
        "* mate\n",
        "* mutation\n",
        "* selection\n",
        "\n",
        "\n",
        "\n",
        "\n"
      ],
      "metadata": {
        "id": "aD4_GK60HGw3"
      }
    },
    {
      "cell_type": "code",
      "source": [
        "#HINTS\n",
        "\n",
        "#Select is simpler, try tournament selection or roulette selection. Look up how to add that.\n",
        "\n",
        "#FOR mutation - mutShuffleIndexes\n",
        "\n",
        "#For mate - cxPartialyMatched, cxOrdered"
      ],
      "metadata": {
        "id": "JdippUCgLIfE"
      },
      "execution_count": null,
      "outputs": []
    },
    {
      "cell_type": "code",
      "source": [
        "toolbox.register(\"select\", tools.selTournament, tournsize=3)\n",
        "toolbox.register(\"mate\", tools.cxPartialyMatched)\n",
        "toolbox.register(\"mutate\", tools.mutShuffleIndexes, indpb=0.05)"
      ],
      "metadata": {
        "id": "-qqgwYvmSprv"
      },
      "execution_count": null,
      "outputs": []
    },
    {
      "cell_type": "code",
      "source": [
        "def plot_routes(individual, locations, depot, num_vehicles, title=\"Routes\"):\n",
        "    plt.figure(figsize=(10, 8))\n",
        "    plt.title(title)\n",
        "    plt.scatter(*zip(*locations), color='blue', label='Locations')\n",
        "    plt.scatter(*depot, color='red', marker='s', s=100, label='Depot')\n",
        "    colors = plt.cm.jet(np.linspace(0, 1, num_vehicles))\n",
        "\n",
        "    for i in range(num_vehicles):\n",
        "        vehicle_route = [depot] + [locations[individual[j]] for j in range(i, len(individual), num_vehicles)] + [depot]\n",
        "        x_coords, y_coords = zip(*vehicle_route)\n",
        "        plt.plot(x_coords, y_coords, marker='o', linestyle='-', color=colors[i], label=f'Vehicle {i+1}')\n",
        "\n",
        "    plt.xlabel(\"X Coordinate\")\n",
        "    plt.ylabel(\"Y Coordinate\")\n",
        "    plt.legend()\n",
        "    plt.grid(True)\n",
        "    plt.show()"
      ],
      "metadata": {
        "id": "r4rEeIXnSppe"
      },
      "execution_count": null,
      "outputs": []
    },
    {
      "cell_type": "code",
      "source": [
        "def main():\n",
        "    random.seed(42)  # Seed for reproducibility\n",
        "    pop = toolbox.population(n=300)  # Generate initial population\n",
        "    hof = tools.HallOfFame(1)  # Hall of Fame to store the best individual\n",
        "\n",
        "    # Setup statistics to track\n",
        "    stats = tools.Statistics(lambda ind: ind.fitness.values)\n",
        "    stats.register(\"avg\", np.mean)\n",
        "    stats.register(\"min\", np.min)\n",
        "\n",
        "    # Run the genetic algorithm\n",
        "    algorithms.eaSimple(pop, toolbox, 0.7, 0.2, 300, stats=stats, halloffame=hof)\n",
        "\n",
        "    # Plot the best route found\n",
        "    plot_routes(hof[0], locations, depot, num_vehicles, \"Optimal Route\")\n",
        "    return pop, stats, hof\n",
        "\n",
        "# --- Run the Algorithm and Print Results ---\n",
        "if __name__ == \"__main__\":\n",
        "    # Task 9 - Call the main function, run the algorithm, and print the results\n",
        "    population, statistics, hall_of_fame = main()\n",
        "\n",
        "    # Print some results\n",
        "    best_individual = hall_of_fame[0]\n",
        "    best_fitness = best_individual.fitness.values\n",
        "\n",
        "    print(\"Best Individual:\", best_individual)\n",
        "    print(\"Best Fitness (Total Distance, Balance Penalty):\", best_fitness)\n",
        "\n",
        "    avg_fitness = statistics.compile(population)[\"avg\"]\n",
        "    min_fitness = statistics.compile(population)[\"min\"]\n",
        "    print(f\"Average fitness: {avg_fitness}\")\n",
        "    print(f\"Min fitness: {min_fitness}\")"
      ],
      "metadata": {
        "id": "NY6sghFNalWa"
      },
      "execution_count": null,
      "outputs": []
    }
  ]
}